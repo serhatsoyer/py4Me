{
 "cells": [
  {
   "attachments": {},
   "cell_type": "markdown",
   "metadata": {},
   "source": [
    "[Source](https://github.com/rlabbe/Kalman-and-Bayesian-Filters-in-Python)"
   ]
  },
  {
   "cell_type": "code",
   "execution_count": 1,
   "metadata": {},
   "outputs": [],
   "source": [
    "import numpy as np\n",
    "import scipy.linalg as linalg"
   ]
  },
  {
   "cell_type": "code",
   "execution_count": 2,
   "metadata": {},
   "outputs": [
    {
     "name": "stdout",
     "output_type": "stream",
     "text": [
      "matrix = array([[1., 2.],\n",
      "       [3., 4.]])\n"
     ]
    }
   ],
   "source": [
    "matrix = np.array([[1., 2.], [3., 4.]])\n",
    "print(f'{matrix = }')"
   ]
  },
  {
   "cell_type": "code",
   "execution_count": 3,
   "metadata": {},
   "outputs": [
    {
     "name": "stdout",
     "output_type": "stream",
     "text": [
      "matrix + matrix = array([[2., 4.],\n",
      "       [6., 8.]])\n",
      "matrix * matrix = array([[ 1.,  4.],\n",
      "       [ 9., 16.]])\n",
      "np.dot(matrix, matrix) = array([[ 7., 10.],\n",
      "       [15., 22.]])\n",
      "matrix @ matrix = array([[ 7., 10.],\n",
      "       [15., 22.]])\n"
     ]
    }
   ],
   "source": [
    "print(f'{matrix + matrix = }')\n",
    "print(f'{matrix * matrix = }')\n",
    "print(f'{np.dot(matrix, matrix) = }')\n",
    "print(f'{matrix @ matrix = }')"
   ]
  },
  {
   "cell_type": "code",
   "execution_count": 4,
   "metadata": {},
   "outputs": [
    {
     "name": "stdout",
     "output_type": "stream",
     "text": [
      "matrix.T = array([[1., 3.],\n",
      "       [2., 4.]])\n",
      "np.linalg.inv(matrix) = array([[-2. ,  1. ],\n",
      "       [ 1.5, -0.5]])\n",
      "linalg.inv(matrix) = array([[-2. ,  1. ],\n",
      "       [ 1.5, -0.5]])\n"
     ]
    }
   ],
   "source": [
    "print(f'{matrix.T = }')\n",
    "print(f'{np.linalg.inv(matrix) = }')\n",
    "print(f'{linalg.inv(matrix) = }')"
   ]
  },
  {
   "cell_type": "code",
   "execution_count": 5,
   "metadata": {},
   "outputs": [
    {
     "name": "stdout",
     "output_type": "stream",
     "text": [
      "np.asarray([[1., 2.], [3., 4.]]) = array([[1., 2.],\n",
      "       [3., 4.]])\n",
      "np.asarray(matrix) = array([[1., 2.],\n",
      "       [3., 4.]])\n",
      "np.array([[1., 2.], [3., 4.]]) = array([[1., 2.],\n",
      "       [3., 4.]])\n",
      "np.array(matrix) = array([[1., 2.],\n",
      "       [3., 4.]])\n"
     ]
    }
   ],
   "source": [
    "print(f'{np.asarray([[1., 2.], [3., 4.]]) = }')\n",
    "print(f'{np.asarray(matrix) = }')\n",
    "print(f'{np.array([[1., 2.], [3., 4.]]) = }')\n",
    "print(f'{np.array(matrix) = }')"
   ]
  }
 ],
 "metadata": {
  "colab": {
   "authorship_tag": "ABX9TyNHOowRVGeH2h5r1YMyEjIK",
   "collapsed_sections": [],
   "provenance": []
  },
  "kernelspec": {
   "display_name": "Python 3.10.6 ('study')",
   "language": "python",
   "name": "python3"
  },
  "language_info": {
   "codemirror_mode": {
    "name": "ipython",
    "version": 3
   },
   "file_extension": ".py",
   "mimetype": "text/x-python",
   "name": "python",
   "nbconvert_exporter": "python",
   "pygments_lexer": "ipython3",
   "version": "3.10.8 (main, Nov 24 2022, 08:08:27) [Clang 14.0.6 ]"
  },
  "vscode": {
   "interpreter": {
    "hash": "29d06b973d1ddb34db3279b24f9b5152402e688db937648b736e855ec4de60c0"
   }
  }
 },
 "nbformat": 4,
 "nbformat_minor": 1
}
