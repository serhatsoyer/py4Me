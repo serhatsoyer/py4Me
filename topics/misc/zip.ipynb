{
 "cells": [
  {
   "cell_type": "code",
   "execution_count": 1,
   "metadata": {},
   "outputs": [
    {
     "name": "stdout",
     "output_type": "stream",
     "text": [
      "Double from double: idx = 0, from_l1 = 1, from_l2 = 3\n",
      "Double from double: idx = 1, from_l1 = 2, from_l2 = 4\n",
      "Single from double: idx = 0, together = (1, 3)\n",
      "Single from double: idx = 1, together = (2, 4)\n",
      "Triple from triple: from_l1 = 1, from_l2 = 3, from_l3 = 6\n",
      "Triple from triple: from_l1 = 2, from_l2 = 4, from_l3 = 7\n",
      "Single from triple: together = (1, 3, 6)\n",
      "Single from triple: together = (2, 4, 7)\n",
      "Double from double: from_l2 = 3, from_l3 = 6\n",
      "Double from double: from_l2 = 4, from_l3 = 7\n",
      "Double from double: from_l2 = 5, from_l3 = 8\n"
     ]
    }
   ],
   "source": [
    "l1 = [1, 2]\n",
    "l2 = [3, 4, 5]\n",
    "l3 = [6, 7, 8]\n",
    "for idx, [from_l1, from_l2] in enumerate(zip(l1, l2)): print(f'Double from double: {idx = }, {from_l1 = }, {from_l2 = }')\n",
    "for idx, together in enumerate(zip(l1, l2)): print(f'Single from double: {idx = }, {together = }')\n",
    "for [from_l1, from_l2, from_l3] in zip(l1, l2, l3): print(f'Triple from triple: {from_l1 = }, {from_l2 = }, {from_l3 = }')\n",
    "for together in zip(l1, l2, l3): print(f'Single from triple: {together = }')\n",
    "for [from_l2, from_l3] in zip(l2, l3): print(f'Double from double: {from_l2 = }, {from_l3 = }')"
   ]
  }
 ],
 "metadata": {
  "colab": {
   "authorship_tag": "ABX9TyNHOowRVGeH2h5r1YMyEjIK",
   "collapsed_sections": [],
   "provenance": []
  },
  "kernelspec": {
   "display_name": "Python 3.10.6 ('study')",
   "language": "python",
   "name": "python3"
  },
  "language_info": {
   "codemirror_mode": {
    "name": "ipython",
    "version": 3
   },
   "file_extension": ".py",
   "mimetype": "text/x-python",
   "name": "python",
   "nbconvert_exporter": "python",
   "pygments_lexer": "ipython3",
   "version": "3.10.8"
  },
  "vscode": {
   "interpreter": {
    "hash": "29d06b973d1ddb34db3279b24f9b5152402e688db937648b736e855ec4de60c0"
   }
  }
 },
 "nbformat": 4,
 "nbformat_minor": 1
}
