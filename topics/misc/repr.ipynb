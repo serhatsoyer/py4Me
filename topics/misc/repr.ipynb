{
 "cells": [
  {
   "cell_type": "code",
   "execution_count": 1,
   "metadata": {},
   "outputs": [
    {
     "name": "stdout",
     "output_type": "stream",
     "text": [
      "Help on function namedtuple in module collections:\n",
      "\n",
      "namedtuple(typename, field_names, *, rename=False, defaults=None, module=None)\n",
      "    Returns a new subclass of tuple with named fields.\n",
      "    \n",
      "    >>> Point = namedtuple('Point', ['x', 'y'])\n",
      "    >>> Point.__doc__                   # docstring for the new class\n",
      "    'Point(x, y)'\n",
      "    >>> p = Point(11, y=22)             # instantiate with positional args or keywords\n",
      "    >>> p[0] + p[1]                     # indexable like a plain tuple\n",
      "    33\n",
      "    >>> x, y = p                        # unpack like a regular tuple\n",
      "    >>> x, y\n",
      "    (11, 22)\n",
      "    >>> p.x + p.y                       # fields also accessible by name\n",
      "    33\n",
      "    >>> d = p._asdict()                 # convert to a dictionary\n",
      "    >>> d['x']\n",
      "    11\n",
      "    >>> Point(**d)                      # convert from a dictionary\n",
      "    Point(x=11, y=22)\n",
      "    >>> p._replace(x=100)               # _replace() is like str.replace() but targets named fields\n",
      "    Point(x=100, y=22)\n",
      "\n"
     ]
    }
   ],
   "source": [
    "from collections import namedtuple\n",
    "\n",
    "help(namedtuple)"
   ]
  },
  {
   "cell_type": "code",
   "execution_count": 2,
   "metadata": {},
   "outputs": [
    {
     "name": "stdout",
     "output_type": "stream",
     "text": [
      "cylinder = <class '__main__.Cylinder'>\n",
      "type(cylinder) = <class 'type'>\n"
     ]
    }
   ],
   "source": [
    "cylinder = namedtuple('Cylinder', ['radius', 'height'])\n",
    "\n",
    "print(f'{cylinder = }')\n",
    "print(f'{type(cylinder) = }')"
   ]
  },
  {
   "cell_type": "code",
   "execution_count": 3,
   "metadata": {},
   "outputs": [
    {
     "name": "stdout",
     "output_type": "stream",
     "text": [
      "type(c0) = <class '__main__.Cylinder'>\n",
      "c0 = Cylinder(radius: 1, height: 2)\n",
      "c1 = Cylinder(radius: 2, height: 3)\n",
      "c2 = Cylinder(radius: 3, height: 4)\n",
      "c0[0] = 1\n",
      "c0[1] = 2\n",
      "c1.radius = 2\n",
      "c1.height = 3\n",
      "c2[0] = 3\n",
      "c2.height = 4\n"
     ]
    }
   ],
   "source": [
    "cylinder.__repr__ = lambda str: f'Cylinder(radius: {str[0]}, height: {str[1]})'\n",
    "\n",
    "c0 = cylinder(1, 2)\n",
    "c1 = cylinder(radius=2, height=3)\n",
    "c2 = cylinder(3, height=4)\n",
    "\n",
    "print(f'{type(c0) = }')\n",
    "print(f'{c0 = }')\n",
    "print(f'{c1 = }')\n",
    "print(f'{c2 = }')\n",
    "print(f'{c0[0] = }')\n",
    "print(f'{c0[1] = }')\n",
    "print(f'{c1.radius = }')\n",
    "print(f'{c1.height = }')\n",
    "print(f'{c2[0] = }')\n",
    "print(f'{c2.height = }')"
   ]
  }
 ],
 "metadata": {
  "colab": {
   "authorship_tag": "ABX9TyNHOowRVGeH2h5r1YMyEjIK",
   "collapsed_sections": [],
   "provenance": []
  },
  "kernelspec": {
   "display_name": "Python 3.10.6 ('study')",
   "language": "python",
   "name": "python3"
  },
  "language_info": {
   "codemirror_mode": {
    "name": "ipython",
    "version": 3
   },
   "file_extension": ".py",
   "mimetype": "text/x-python",
   "name": "python",
   "nbconvert_exporter": "python",
   "pygments_lexer": "ipython3",
   "version": "3.10.8"
  },
  "vscode": {
   "interpreter": {
    "hash": "29d06b973d1ddb34db3279b24f9b5152402e688db937648b736e855ec4de60c0"
   }
  }
 },
 "nbformat": 4,
 "nbformat_minor": 1
}
