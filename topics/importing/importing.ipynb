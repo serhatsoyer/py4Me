{
 "cells": [
  {
   "cell_type": "code",
   "execution_count": 1,
   "metadata": {},
   "outputs": [
    {
     "name": "stdout",
     "output_type": "stream",
     "text": [
      "file1  -  __name__:  file1\n",
      "__name__ is NOT '__main__' in file1\n"
     ]
    }
   ],
   "source": [
    "from file1 import * # To import everything"
   ]
  },
  {
   "cell_type": "code",
   "execution_count": 2,
   "metadata": {},
   "outputs": [
    {
     "name": "stdout",
     "output_type": "stream",
     "text": [
      "1\n"
     ]
    }
   ],
   "source": [
    "import file1 as f1\n",
    "print(variable)"
   ]
  },
  {
   "cell_type": "code",
   "execution_count": 3,
   "metadata": {},
   "outputs": [
    {
     "name": "stdout",
     "output_type": "stream",
     "text": [
      "file2  -  __name__:  folder.file2\n",
      "__name__ is NOT '__main__' in file2\n",
      "file2_func2\n",
      "file2_func1  -  variable: 2\n"
     ]
    }
   ],
   "source": [
    "from folder.file2 import file2_func2 # To import one thing and to navigate use '.'\n",
    "file2_func2() # file2_func1 not imported but called - variable not called but printed"
   ]
  },
  {
   "cell_type": "code",
   "execution_count": 4,
   "metadata": {},
   "outputs": [
    {
     "name": "stdout",
     "output_type": "stream",
     "text": [
      "__main__\n",
      "__name__ is '__main__' in this notebook\n"
     ]
    }
   ],
   "source": [
    "print(__name__)\n",
    "print(\"__name__ is '__main__'\" if __name__ == '__main__' else \"__name__ is NOT '__main__'\", 'in this notebook')"
   ]
  }
 ],
 "metadata": {
  "colab": {
   "authorship_tag": "ABX9TyO242NqZxlqC9snuiSoJsAX",
   "collapsed_sections": [],
   "provenance": []
  },
  "kernelspec": {
   "display_name": "Python 3.10.6 ('study')",
   "language": "python",
   "name": "python3"
  },
  "language_info": {
   "codemirror_mode": {
    "name": "ipython",
    "version": 3
   },
   "file_extension": ".py",
   "mimetype": "text/x-python",
   "name": "python",
   "nbconvert_exporter": "python",
   "pygments_lexer": "ipython3",
   "version": "3.10.8 (main, Nov 24 2022, 08:08:27) [Clang 14.0.6 ]"
  },
  "vscode": {
   "interpreter": {
    "hash": "29d06b973d1ddb34db3279b24f9b5152402e688db937648b736e855ec4de60c0"
   }
  }
 },
 "nbformat": 4,
 "nbformat_minor": 1
}
