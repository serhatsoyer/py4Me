{
 "cells": [
  {
   "cell_type": "code",
   "execution_count": 1,
   "metadata": {},
   "outputs": [
    {
     "name": "stdout",
     "output_type": "stream",
     "text": [
      "type(args) = <class 'tuple'>\n",
      "args = ('input1', 2, 'input3')\n",
      "len(args) = 3\n"
     ]
    }
   ],
   "source": [
    "def fn_unk_num_of_args(*args): print(f'{type(args) = }\\n{args = }\\n{len(args) = }')\n",
    "fn_unk_num_of_args('input1', 2, 'input3')"
   ]
  },
  {
   "cell_type": "code",
   "execution_count": 2,
   "metadata": {},
   "outputs": [
    {
     "name": "stdout",
     "output_type": "stream",
     "text": [
      "arg1 = 4, arg2 = 3\n"
     ]
    }
   ],
   "source": [
    "def fn_keyword_args(arg1, arg2): print(f'{arg1 = }, {arg2 = }')\n",
    "fn_keyword_args(arg2=3, arg1=4)"
   ]
  },
  {
   "cell_type": "code",
   "execution_count": 3,
   "metadata": {},
   "outputs": [
    {
     "name": "stdout",
     "output_type": "stream",
     "text": [
      "type(kwargs) = <class 'dict'>\n",
      "key = 'serhat', val = 1\n",
      "key = 'soyer', val = 2\n"
     ]
    }
   ],
   "source": [
    "def fn_unk_num_of_keyword_args(**kwargs): print(f'{type(kwargs) = }'); [print(f'{key = }, {val = }') for (key, val) in kwargs.items()]\n",
    "fn_unk_num_of_keyword_args(serhat=1, soyer=2)"
   ]
  },
  {
   "cell_type": "code",
   "execution_count": 4,
   "metadata": {},
   "outputs": [
    {
     "name": "stdout",
     "output_type": "stream",
     "text": [
      "arg1 = 0, arg2 = 1\n",
      "arg1 = 3, arg2 = 2\n"
     ]
    }
   ],
   "source": [
    "def fn_default_arg(arg1, arg2=2): print(f'{arg1 = }, {arg2 = }')\n",
    "fn_default_arg(0, 1)\n",
    "fn_default_arg(3)"
   ]
  }
 ],
 "metadata": {
  "colab": {
   "authorship_tag": "ABX9TyNHOowRVGeH2h5r1YMyEjIK",
   "collapsed_sections": [],
   "provenance": []
  },
  "kernelspec": {
   "display_name": "Python 3.10.6 ('study')",
   "language": "python",
   "name": "python3"
  },
  "language_info": {
   "codemirror_mode": {
    "name": "ipython",
    "version": 3
   },
   "file_extension": ".py",
   "mimetype": "text/x-python",
   "name": "python",
   "nbconvert_exporter": "python",
   "pygments_lexer": "ipython3",
   "version": "3.10.8 (main, Nov 24 2022, 08:08:27) [Clang 14.0.6 ]"
  },
  "vscode": {
   "interpreter": {
    "hash": "29d06b973d1ddb34db3279b24f9b5152402e688db937648b736e855ec4de60c0"
   }
  }
 },
 "nbformat": 4,
 "nbformat_minor": 1
}
