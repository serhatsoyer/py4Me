{
 "cells": [
  {
   "cell_type": "code",
   "execution_count": 1,
   "id": "95637421",
   "metadata": {},
   "outputs": [],
   "source": [
    "import logging # # NOTSET=0, DEBUG=10, INFO=20, WARNING=30, ERROR=40, and CRITICAL=50\n",
    "from pathlib import Path\n",
    "logger = logging.getLogger()\n",
    "logger.setLevel(logging.NOTSET)\n",
    "stream_handler = logging.StreamHandler()\n",
    "stream_handler.setLevel(logging.ERROR) # error and critical will be printed\n",
    "stream_handler.setFormatter(logging.Formatter('%(asctime)s | %(funcName)s - %(lineno)d: %(message)s'))\n",
    "logger.addHandler(stream_handler)\n",
    "path = Path.cwd() / 'logging.log'\n",
    "if path.is_file(): path.unlink() # Delete the existing log first\n",
    "file_handler = logging.FileHandler('logging.log')\n",
    "file_handler.setLevel(logging.INFO) # only debug will not be written to the file\n",
    "file_handler.setFormatter(logging.Formatter('%(asctime)s | %(levelname)s - %(message)s'))\n",
    "logger.addHandler(file_handler)"
   ]
  },
  {
   "cell_type": "code",
   "execution_count": 2,
   "id": "8f8055c4",
   "metadata": {},
   "outputs": [
    {
     "name": "stderr",
     "output_type": "stream",
     "text": [
      "2022-12-15 17:25:33,745 | <module> - 2: error1\n",
      "2022-12-15 17:25:33,747 | <module> - 2: error2\n",
      "2022-12-15 17:25:33,749 | <module> - 2: critical1\n",
      "2022-12-15 17:25:33,751 | <module> - 4: Critical message.\n",
      "2022-12-15 17:25:33,752 | a_function - 3: Error message.\n",
      "2022-12-15 17:25:33,752 | a_function - 3: Error message.\n"
     ]
    }
   ],
   "source": [
    "logging.debug('debug1'); logging.info('info1'); logging.warning('warning1') # Line 1\n",
    "logging.error('error1'); logging.error('error2'); logging.critical('critical1') # Line 2\n",
    "def a_function(): logging.error('Error message.') # Line 3\n",
    "logging.critical('Critical message.') # Line 4\n",
    "a_function() # Line 5\n",
    "a_function() # Line 6\n",
    "logging.info('Info message.') # Line 7"
   ]
  }
 ],
 "metadata": {
  "kernelspec": {
   "display_name": "study",
   "language": "python",
   "name": "python3"
  },
  "language_info": {
   "codemirror_mode": {
    "name": "ipython",
    "version": 3
   },
   "file_extension": ".py",
   "mimetype": "text/x-python",
   "name": "python",
   "nbconvert_exporter": "python",
   "pygments_lexer": "ipython3",
   "version": "3.10.8 (main, Nov 24 2022, 08:08:27) [Clang 14.0.6 ]"
  },
  "vscode": {
   "interpreter": {
    "hash": "29d06b973d1ddb34db3279b24f9b5152402e688db937648b736e855ec4de60c0"
   }
  }
 },
 "nbformat": 4,
 "nbformat_minor": 5
}
