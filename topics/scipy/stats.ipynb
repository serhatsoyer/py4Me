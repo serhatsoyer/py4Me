{
 "cells": [
  {
   "cell_type": "code",
   "execution_count": 1,
   "metadata": {},
   "outputs": [],
   "source": [
    "import numpy as np\n",
    "from scipy import stats"
   ]
  },
  {
   "cell_type": "code",
   "execution_count": 2,
   "metadata": {},
   "outputs": [
    {
     "name": "stdout",
     "output_type": "stream",
     "text": [
      "object = <scipy.stats._distn_infrastructure.rv_continuous_frozen object at 0x1233f5a50>\n",
      "type(object) = <class 'scipy.stats._distn_infrastructure.rv_continuous_frozen'>\n",
      "object.pdf(2) = 0.1329807601338109\n",
      "object.cdf(2) = 0.5\n",
      "object.mean() = 2.0\n",
      "object.std() = 3.0\n",
      "object.var() = 9.0\n",
      "object.rvs() = 6.593165526987079\n",
      "object.rvs(size=2) = array([6.55988269, 5.38475003])\n"
     ]
    }
   ],
   "source": [
    "object = stats.norm(2, 3)\n",
    "print(f'{object = }')\n",
    "print(f'{type(object) = }')\n",
    "print(f'{object.pdf(2) = }')\n",
    "print(f'{object.cdf(2) = }')\n",
    "print(f'{object.mean() = }')\n",
    "print(f'{object.std() = }')\n",
    "print(f'{object.var() = }')\n",
    "print(f'{object.rvs() = }')\n",
    "print(f'{object.rvs(size=2) = }')"
   ]
  }
 ],
 "metadata": {
  "colab": {
   "authorship_tag": "ABX9TyNHOowRVGeH2h5r1YMyEjIK",
   "collapsed_sections": [],
   "provenance": []
  },
  "kernelspec": {
   "display_name": "Python 3.10.6 ('study')",
   "language": "python",
   "name": "python3"
  },
  "language_info": {
   "codemirror_mode": {
    "name": "ipython",
    "version": 3
   },
   "file_extension": ".py",
   "mimetype": "text/x-python",
   "name": "python",
   "nbconvert_exporter": "python",
   "pygments_lexer": "ipython3",
   "version": "3.10.8"
  },
  "vscode": {
   "interpreter": {
    "hash": "29d06b973d1ddb34db3279b24f9b5152402e688db937648b736e855ec4de60c0"
   }
  }
 },
 "nbformat": 4,
 "nbformat_minor": 1
}
