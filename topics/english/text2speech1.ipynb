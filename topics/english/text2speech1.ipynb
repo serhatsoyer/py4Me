{
 "cells": [
  {
   "cell_type": "code",
   "execution_count": 1,
   "metadata": {},
   "outputs": [
    {
     "name": "stdout",
     "output_type": "stream",
     "text": [
      "Requirement already satisfied: gTTS in /Users/serhatsoyer/miniconda3/envs/TF/lib/python3.10/site-packages (2.3.2)\n",
      "Requirement already satisfied: requests<3,>=2.27 in /Users/serhatsoyer/miniconda3/envs/TF/lib/python3.10/site-packages (from gTTS) (2.30.0)\n",
      "Requirement already satisfied: click<8.2,>=7.1 in /Users/serhatsoyer/miniconda3/envs/TF/lib/python3.10/site-packages (from gTTS) (8.0.4)\n",
      "Requirement already satisfied: charset-normalizer<4,>=2 in /Users/serhatsoyer/miniconda3/envs/TF/lib/python3.10/site-packages (from requests<3,>=2.27->gTTS) (3.1.0)\n",
      "Requirement already satisfied: certifi>=2017.4.17 in /Users/serhatsoyer/miniconda3/envs/TF/lib/python3.10/site-packages (from requests<3,>=2.27->gTTS) (2023.5.7)\n",
      "Requirement already satisfied: urllib3<3,>=1.21.1 in /Users/serhatsoyer/miniconda3/envs/TF/lib/python3.10/site-packages (from requests<3,>=2.27->gTTS) (2.0.2)\n",
      "Requirement already satisfied: idna<4,>=2.5 in /Users/serhatsoyer/miniconda3/envs/TF/lib/python3.10/site-packages (from requests<3,>=2.27->gTTS) (3.4)\n",
      "Note: you may need to restart the kernel to use updated packages.\n"
     ]
    }
   ],
   "source": [
    "%pip install gTTS"
   ]
  },
  {
   "cell_type": "code",
   "execution_count": 2,
   "metadata": {},
   "outputs": [
    {
     "name": "stdout",
     "output_type": "stream",
     "text": [
      "Requirement already satisfied: playsound in /Users/serhatsoyer/miniconda3/envs/TF/lib/python3.10/site-packages (1.3.0)\n",
      "Note: you may need to restart the kernel to use updated packages.\n"
     ]
    }
   ],
   "source": [
    "%pip install playsound"
   ]
  },
  {
   "cell_type": "code",
   "execution_count": 3,
   "metadata": {},
   "outputs": [],
   "source": [
    "from gtts import gTTS\n",
    "from playsound import playsound"
   ]
  },
  {
   "cell_type": "code",
   "execution_count": 4,
   "metadata": {},
   "outputs": [],
   "source": [
    "gTTS(text='This is read by Google.', lang='en', slow=False).save('gTTS.mp3') # Requires internet connection"
   ]
  },
  {
   "cell_type": "code",
   "execution_count": 5,
   "metadata": {},
   "outputs": [],
   "source": [
    "playsound('gTTS.mp3')"
   ]
  }
 ],
 "metadata": {
  "colab": {
   "authorship_tag": "ABX9TyNHOowRVGeH2h5r1YMyEjIK",
   "collapsed_sections": [],
   "provenance": []
  },
  "kernelspec": {
   "display_name": "Python 3.10.6 ('study')",
   "language": "python",
   "name": "python3"
  },
  "language_info": {
   "codemirror_mode": {
    "name": "ipython",
    "version": 3
   },
   "file_extension": ".py",
   "mimetype": "text/x-python",
   "name": "python",
   "nbconvert_exporter": "python",
   "pygments_lexer": "ipython3",
   "version": "3.10.11"
  },
  "vscode": {
   "interpreter": {
    "hash": "29d06b973d1ddb34db3279b24f9b5152402e688db937648b736e855ec4de60c0"
   }
  }
 },
 "nbformat": 4,
 "nbformat_minor": 1
}
