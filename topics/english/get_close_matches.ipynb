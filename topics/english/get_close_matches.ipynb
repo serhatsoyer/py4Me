{
 "cells": [
  {
   "cell_type": "code",
   "execution_count": 1,
   "metadata": {},
   "outputs": [],
   "source": [
    "from difflib import get_close_matches"
   ]
  },
  {
   "cell_type": "code",
   "execution_count": 2,
   "metadata": {},
   "outputs": [
    {
     "name": "stdout",
     "output_type": "stream",
     "text": [
      "Help on function get_close_matches in module difflib:\n",
      "\n",
      "get_close_matches(word, possibilities, n=3, cutoff=0.6)\n",
      "    Use SequenceMatcher to return list of the best \"good enough\" matches.\n",
      "    \n",
      "    word is a sequence for which close matches are desired (typically a\n",
      "    string).\n",
      "    \n",
      "    possibilities is a list of sequences against which to match word\n",
      "    (typically a list of strings).\n",
      "    \n",
      "    Optional arg n (default 3) is the maximum number of close matches to\n",
      "    return.  n must be > 0.\n",
      "    \n",
      "    Optional arg cutoff (default 0.6) is a float in [0, 1].  Possibilities\n",
      "    that don't score at least that similar to word are ignored.\n",
      "    \n",
      "    The best (no more than n) matches among the possibilities are returned\n",
      "    in a list, sorted by similarity score, most similar first.\n",
      "    \n",
      "    >>> get_close_matches(\"appel\", [\"ape\", \"apple\", \"peach\", \"puppy\"])\n",
      "    ['apple', 'ape']\n",
      "    >>> import keyword as _keyword\n",
      "    >>> get_close_matches(\"wheel\", _keyword.kwlist)\n",
      "    ['while']\n",
      "    >>> get_close_matches(\"Apple\", _keyword.kwlist)\n",
      "    []\n",
      "    >>> get_close_matches(\"accept\", _keyword.kwlist)\n",
      "    ['except']\n",
      "\n"
     ]
    }
   ],
   "source": [
    "help(get_close_matches)"
   ]
  },
  {
   "cell_type": "code",
   "execution_count": 3,
   "metadata": {},
   "outputs": [
    {
     "name": "stdout",
     "output_type": "stream",
     "text": [
      "get_close_matches('chair', my_dict) = ['chair']\n",
      "get_close_matches('chairs', my_dict) = ['chair']\n",
      "get_close_matches('lamb', my_dict) = ['lamp']\n",
      "get_close_matches('peaches', my_dict) = ['peach']\n",
      "get_close_matches('puppies', my_dict) = ['puppy']\n",
      "get_close_matches('knives', my_dict) = ['knife']\n",
      "get_close_matches('tooth', my_dict) = ['tool', 'teeth']\n"
     ]
    }
   ],
   "source": [
    "my_dict = ['chair', 'lamp', 'peach', 'puppy', 'knife', 'teeth', 'tool']\n",
    "print(f\"{get_close_matches('chair', my_dict) = }\")\n",
    "print(f\"{get_close_matches('chairs', my_dict) = }\")\n",
    "print(f\"{get_close_matches('lamb', my_dict) = }\")\n",
    "print(f\"{get_close_matches('peaches', my_dict) = }\")\n",
    "print(f\"{get_close_matches('puppies', my_dict) = }\")\n",
    "print(f\"{get_close_matches('knives', my_dict) = }\")\n",
    "print(f\"{get_close_matches('tooth', my_dict) = }\")"
   ]
  }
 ],
 "metadata": {
  "colab": {
   "authorship_tag": "ABX9TyNHOowRVGeH2h5r1YMyEjIK",
   "collapsed_sections": [],
   "provenance": []
  },
  "kernelspec": {
   "display_name": "Python 3.10.6 ('study')",
   "language": "python",
   "name": "python3"
  },
  "language_info": {
   "codemirror_mode": {
    "name": "ipython",
    "version": 3
   },
   "file_extension": ".py",
   "mimetype": "text/x-python",
   "name": "python",
   "nbconvert_exporter": "python",
   "pygments_lexer": "ipython3",
   "version": "3.10.11"
  },
  "vscode": {
   "interpreter": {
    "hash": "29d06b973d1ddb34db3279b24f9b5152402e688db937648b736e855ec4de60c0"
   }
  }
 },
 "nbformat": 4,
 "nbformat_minor": 1
}
