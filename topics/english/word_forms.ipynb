{
 "cells": [
  {
   "cell_type": "code",
   "execution_count": 1,
   "metadata": {},
   "outputs": [
    {
     "name": "stdout",
     "output_type": "stream",
     "text": [
      "Requirement already satisfied: word_forms in /Users/serhatsoyer/miniconda3/envs/TF/lib/python3.10/site-packages (2.1.0)\n",
      "Requirement already satisfied: inflect==4.1.0 in /Users/serhatsoyer/miniconda3/envs/TF/lib/python3.10/site-packages (from word_forms) (4.1.0)\n",
      "Requirement already satisfied: nltk>=3.3 in /Users/serhatsoyer/miniconda3/envs/TF/lib/python3.10/site-packages (from word_forms) (3.8.1)\n",
      "Requirement already satisfied: regex>=2021.8.3 in /Users/serhatsoyer/miniconda3/envs/TF/lib/python3.10/site-packages (from nltk>=3.3->word_forms) (2023.6.3)\n",
      "Requirement already satisfied: tqdm in /Users/serhatsoyer/miniconda3/envs/TF/lib/python3.10/site-packages (from nltk>=3.3->word_forms) (4.65.0)\n",
      "Requirement already satisfied: click in /Users/serhatsoyer/miniconda3/envs/TF/lib/python3.10/site-packages (from nltk>=3.3->word_forms) (8.0.4)\n",
      "Requirement already satisfied: joblib in /Users/serhatsoyer/miniconda3/envs/TF/lib/python3.10/site-packages (from nltk>=3.3->word_forms) (1.2.0)\n",
      "Note: you may need to restart the kernel to use updated packages.\n"
     ]
    }
   ],
   "source": [
    "%pip install word_forms"
   ]
  },
  {
   "cell_type": "code",
   "execution_count": 2,
   "metadata": {},
   "outputs": [],
   "source": [
    "from word_forms.word_forms import get_word_forms\n",
    "from word_forms.lemmatizer import lemmatize"
   ]
  },
  {
   "cell_type": "code",
   "execution_count": 6,
   "metadata": {},
   "outputs": [],
   "source": [
    "def printer(word):\n",
    "    print(f\"{word = }\")\n",
    "    print(f\"{get_word_forms(word) = }\")\n",
    "    print(f\"{lemmatize(word) = }\")"
   ]
  },
  {
   "cell_type": "code",
   "execution_count": 7,
   "metadata": {},
   "outputs": [
    {
     "name": "stdout",
     "output_type": "stream",
     "text": [
      "word = 'running'\n",
      "get_word_forms(word) = {'n': {'runnings', 'runners', 'runniness', 'run', 'runner', 'runs', 'runninesses', 'running'}, 'a': {'running', 'runny'}, 'v': {'run', 'ran', 'running', 'runs'}, 'r': set()}\n",
      "lemmatize(word) = 'ran'\n",
      "word = 'ran'\n",
      "get_word_forms(word) = {'n': {'runnings', 'runners', 'runniness', 'run', 'runner', 'runs', 'runninesses', 'running'}, 'a': {'running', 'runny'}, 'v': {'run', 'ran', 'running', 'runs'}, 'r': set()}\n",
      "lemmatize(word) = 'ran'\n",
      "word = 'runs'\n",
      "get_word_forms(word) = {'n': {'runnings', 'runners', 'runniness', 'run', 'runner', 'runs', 'runninesses', 'running'}, 'a': {'running', 'runny'}, 'v': {'run', 'ran', 'running', 'runs'}, 'r': set()}\n",
      "lemmatize(word) = 'ran'\n",
      "word = 'operations'\n",
      "get_word_forms(word) = {'n': {'operator', 'operative', 'operatives', 'operators', 'operation', 'operations'}, 'a': {'operative', 'operant'}, 'v': {'operates', 'operating', 'operate', 'operated'}, 'r': {'operatively'}}\n",
      "lemmatize(word) = 'operant'\n",
      "word = 'operate'\n",
      "get_word_forms(word) = {'n': {'operator', 'operative', 'operatives', 'operators', 'operation', 'operations'}, 'a': {'operative', 'operant'}, 'v': {'operates', 'operating', 'operate', 'operated'}, 'r': {'operatively'}}\n",
      "lemmatize(word) = 'operant'\n",
      "word = 'am'\n",
      "get_word_forms(word) = {'n': {'beings', 'being'}, 'a': set(), 'v': {'being', 'was', 'been', 'am not', 'am', \"aren't\", \"wasn't\", 'are', 'is', \"weren't\", 'were', \"isn't\", 'be'}, 'r': set()}\n",
      "lemmatize(word) = 'am'\n",
      "word = 'elect'\n",
      "get_word_forms(word) = {'n': {'electorates', 'electives', 'elector', 'elect', 'election', 'electors', 'elects', 'elections', 'eligibilities', 'elective', 'electorate', 'eligibility'}, 'a': {'elect', 'eligible', 'electoral', 'elective'}, 'v': {'elected', 'elect', 'elects', 'electing'}, 'r': set()}\n",
      "lemmatize(word) = 'elect'\n"
     ]
    }
   ],
   "source": [
    "for word in [\"running\", \"ran\", \"runs\", \"operations\", \"operate\", \"am\", \"elect\"]:\n",
    "    printer(word)"
   ]
  }
 ],
 "metadata": {
  "colab": {
   "authorship_tag": "ABX9TyNHOowRVGeH2h5r1YMyEjIK",
   "collapsed_sections": [],
   "provenance": []
  },
  "kernelspec": {
   "display_name": "Python 3.10.6 ('study')",
   "language": "python",
   "name": "python3"
  },
  "language_info": {
   "codemirror_mode": {
    "name": "ipython",
    "version": 3
   },
   "file_extension": ".py",
   "mimetype": "text/x-python",
   "name": "python",
   "nbconvert_exporter": "python",
   "pygments_lexer": "ipython3",
   "version": "3.10.11"
  },
  "vscode": {
   "interpreter": {
    "hash": "29d06b973d1ddb34db3279b24f9b5152402e688db937648b736e855ec4de60c0"
   }
  }
 },
 "nbformat": 4,
 "nbformat_minor": 1
}
