{
 "cells": [
  {
   "cell_type": "code",
   "execution_count": 1,
   "metadata": {},
   "outputs": [
    {
     "name": "stdout",
     "output_type": "stream",
     "text": [
      "Requirement already satisfied: PyDictionary in /Users/serhatsoyer/miniconda3/envs/TF/lib/python3.10/site-packages (2.0.1)\n",
      "Requirement already satisfied: click in /Users/serhatsoyer/miniconda3/envs/TF/lib/python3.10/site-packages (from PyDictionary) (8.0.4)\n",
      "Requirement already satisfied: bs4 in /Users/serhatsoyer/miniconda3/envs/TF/lib/python3.10/site-packages (from PyDictionary) (0.0.1)\n",
      "Requirement already satisfied: requests in /Users/serhatsoyer/miniconda3/envs/TF/lib/python3.10/site-packages (from PyDictionary) (2.30.0)\n",
      "Requirement already satisfied: goslate in /Users/serhatsoyer/miniconda3/envs/TF/lib/python3.10/site-packages (from PyDictionary) (1.5.4)\n",
      "Requirement already satisfied: beautifulsoup4 in /Users/serhatsoyer/miniconda3/envs/TF/lib/python3.10/site-packages (from bs4->PyDictionary) (4.12.2)\n",
      "Requirement already satisfied: futures in /Users/serhatsoyer/miniconda3/envs/TF/lib/python3.10/site-packages (from goslate->PyDictionary) (3.0.5)\n",
      "Requirement already satisfied: idna<4,>=2.5 in /Users/serhatsoyer/miniconda3/envs/TF/lib/python3.10/site-packages (from requests->PyDictionary) (3.4)\n",
      "Requirement already satisfied: urllib3<3,>=1.21.1 in /Users/serhatsoyer/miniconda3/envs/TF/lib/python3.10/site-packages (from requests->PyDictionary) (2.0.2)\n",
      "Requirement already satisfied: charset-normalizer<4,>=2 in /Users/serhatsoyer/miniconda3/envs/TF/lib/python3.10/site-packages (from requests->PyDictionary) (3.1.0)\n",
      "Requirement already satisfied: certifi>=2017.4.17 in /Users/serhatsoyer/miniconda3/envs/TF/lib/python3.10/site-packages (from requests->PyDictionary) (2023.5.7)\n",
      "Requirement already satisfied: soupsieve>1.2 in /Users/serhatsoyer/miniconda3/envs/TF/lib/python3.10/site-packages (from beautifulsoup4->bs4->PyDictionary) (2.4)\n",
      "Note: you may need to restart the kernel to use updated packages.\n"
     ]
    }
   ],
   "source": [
    "%pip install PyDictionary"
   ]
  },
  {
   "cell_type": "code",
   "execution_count": 2,
   "metadata": {},
   "outputs": [],
   "source": [
    "from PyDictionary import PyDictionary"
   ]
  },
  {
   "cell_type": "code",
   "execution_count": 3,
   "metadata": {},
   "outputs": [],
   "source": [
    "dictionary = PyDictionary()"
   ]
  },
  {
   "cell_type": "code",
   "execution_count": 4,
   "metadata": {},
   "outputs": [
    {
     "data": {
      "text/plain": [
       "{'Verb': ['take away to an undisclosed location against their will and usually in order to extract a ransom',\n",
       "  'pull away from the body']}"
      ]
     },
     "execution_count": 4,
     "metadata": {},
     "output_type": "execute_result"
    }
   ],
   "source": [
    "dictionary.meaning('abduct')"
   ]
  },
  {
   "cell_type": "code",
   "execution_count": 7,
   "metadata": {},
   "outputs": [
    {
     "data": {
      "text/plain": [
       "'kaçırmak'"
      ]
     },
     "execution_count": 7,
     "metadata": {},
     "output_type": "execute_result"
    }
   ],
   "source": [
    "dictionary.translate('abduct', 'tr')"
   ]
  }
 ],
 "metadata": {
  "colab": {
   "authorship_tag": "ABX9TyNHOowRVGeH2h5r1YMyEjIK",
   "collapsed_sections": [],
   "provenance": []
  },
  "kernelspec": {
   "display_name": "Python 3.10.6 ('study')",
   "language": "python",
   "name": "python3"
  },
  "language_info": {
   "codemirror_mode": {
    "name": "ipython",
    "version": 3
   },
   "file_extension": ".py",
   "mimetype": "text/x-python",
   "name": "python",
   "nbconvert_exporter": "python",
   "pygments_lexer": "ipython3",
   "version": "3.10.11"
  },
  "vscode": {
   "interpreter": {
    "hash": "29d06b973d1ddb34db3279b24f9b5152402e688db937648b736e855ec4de60c0"
   }
  }
 },
 "nbformat": 4,
 "nbformat_minor": 1
}
