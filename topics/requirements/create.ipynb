{
 "cells": [
  {
   "cell_type": "code",
   "execution_count": 1,
   "metadata": {},
   "outputs": [],
   "source": [
    "from pathlib import Path"
   ]
  },
  {
   "cell_type": "code",
   "execution_count": 2,
   "metadata": {},
   "outputs": [
    {
     "data": {
      "text/plain": [
       "False"
      ]
     },
     "execution_count": 2,
     "metadata": {},
     "output_type": "execute_result"
    }
   ],
   "source": [
    "name = 'requirements.txt'\n",
    "(Path.cwd() / name).is_file()"
   ]
  },
  {
   "cell_type": "code",
   "execution_count": 3,
   "metadata": {},
   "outputs": [
    {
     "name": "stdout",
     "output_type": "stream",
     "text": [
      "zsh:1: command not found: pipreqs\n"
     ]
    }
   ],
   "source": [
    "!pipreqs"
   ]
  },
  {
   "cell_type": "code",
   "execution_count": 4,
   "metadata": {},
   "outputs": [
    {
     "name": "stdout",
     "output_type": "stream",
     "text": [
      "Collecting pipreqs\n",
      "  Using cached pipreqs-0.4.11-py2.py3-none-any.whl (32 kB)\n",
      "Requirement already satisfied: docopt in /opt/miniconda3/envs/study/lib/python3.10/site-packages (from pipreqs) (0.6.2)\n",
      "Requirement already satisfied: yarg in /opt/miniconda3/envs/study/lib/python3.10/site-packages (from pipreqs) (0.1.9)\n",
      "Requirement already satisfied: requests in /opt/miniconda3/envs/study/lib/python3.10/site-packages (from yarg->pipreqs) (2.28.1)\n",
      "Requirement already satisfied: charset-normalizer<3,>=2 in /opt/miniconda3/envs/study/lib/python3.10/site-packages (from requests->yarg->pipreqs) (2.1.1)\n",
      "Requirement already satisfied: idna<4,>=2.5 in /opt/miniconda3/envs/study/lib/python3.10/site-packages (from requests->yarg->pipreqs) (3.4)\n",
      "Requirement already satisfied: certifi>=2017.4.17 in /opt/miniconda3/envs/study/lib/python3.10/site-packages (from requests->yarg->pipreqs) (2022.9.24)\n",
      "Requirement already satisfied: urllib3<1.27,>=1.21.1 in /opt/miniconda3/envs/study/lib/python3.10/site-packages (from requests->yarg->pipreqs) (1.26.13)\n",
      "Installing collected packages: pipreqs\n",
      "Successfully installed pipreqs-0.4.11\n"
     ]
    }
   ],
   "source": [
    "!pip install pipreqs"
   ]
  },
  {
   "cell_type": "code",
   "execution_count": 5,
   "metadata": {},
   "outputs": [
    {
     "name": "stdout",
     "output_type": "stream",
     "text": [
      "INFO: Successfully saved requirements file in /Users/serhatsoyer/Repos/py4Me/topics/requirements/requirements.txt\n"
     ]
    }
   ],
   "source": [
    "!pipreqs"
   ]
  },
  {
   "cell_type": "code",
   "execution_count": 6,
   "metadata": {},
   "outputs": [
    {
     "data": {
      "text/plain": [
       "True"
      ]
     },
     "execution_count": 6,
     "metadata": {},
     "output_type": "execute_result"
    }
   ],
   "source": [
    "(Path.cwd() / name).is_file()"
   ]
  },
  {
   "cell_type": "code",
   "execution_count": 7,
   "metadata": {},
   "outputs": [
    {
     "name": "stdout",
     "output_type": "stream",
     "text": [
      "Found existing installation: pipreqs 0.4.11\n",
      "Uninstalling pipreqs-0.4.11:\n",
      "  Successfully uninstalled pipreqs-0.4.11\n"
     ]
    }
   ],
   "source": [
    "!pip uninstall pipreqs -y"
   ]
  }
 ],
 "metadata": {
  "colab": {
   "authorship_tag": "ABX9TyNHOowRVGeH2h5r1YMyEjIK",
   "collapsed_sections": [],
   "provenance": []
  },
  "kernelspec": {
   "display_name": "Python 3.10.6 ('study')",
   "language": "python",
   "name": "python3"
  },
  "language_info": {
   "codemirror_mode": {
    "name": "ipython",
    "version": 3
   },
   "file_extension": ".py",
   "mimetype": "text/x-python",
   "name": "python",
   "nbconvert_exporter": "python",
   "pygments_lexer": "ipython3",
   "version": "3.10.8"
  },
  "vscode": {
   "interpreter": {
    "hash": "29d06b973d1ddb34db3279b24f9b5152402e688db937648b736e855ec4de60c0"
   }
  }
 },
 "nbformat": 4,
 "nbformat_minor": 1
}
