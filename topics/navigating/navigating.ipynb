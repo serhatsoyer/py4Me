{
 "cells": [
  {
   "cell_type": "code",
   "execution_count": 1,
   "metadata": {
    "id": "5opy0X-JLac9"
   },
   "outputs": [
    {
     "name": "stdout",
     "output_type": "stream",
     "text": [
      "Path:                    .\n",
      "Type of path:            <class 'pathlib.PosixPath'>\n",
      "Absolute path:           /Users/serhatsoyer/Repos/py4Me/topics/navigating\n",
      "Type of absolute path:   <class 'pathlib.PosixPath'>\n",
      "Path parent:             .\n",
      "Absolute path parent:    /Users/serhatsoyer/Repos/py4Me/topics\n",
      "cwd:                     /Users/serhatsoyer/Repos/py4Me/topics/navigating\n",
      "cwd parent:              /Users/serhatsoyer/Repos/py4Me/topics\n",
      "cwd 2 parent:            /Users/serhatsoyer/Repos/py4Me\n",
      "cwd 3 parent:            /Users/serhatsoyer/Repos\n",
      "cwd exists:              True\n",
      "cwd is a directory:      True\n",
      "cwd is a file:           False\n",
      "Notebook suffix:         .ipynb\n",
      "Notebook name:           navigating.ipynb\n"
     ]
    }
   ],
   "source": [
    "from pathlib import Path\n",
    "print(f\"{'Path:':<25}{Path('.')}\")\n",
    "print(f\"{'Type of path:':<25}{type(Path('.'))}\")\n",
    "print(f\"{'Absolute path:':<25}{Path('.').absolute()}\")\n",
    "print(f\"{'Type of absolute path:':<25}{type(Path('.').absolute())}\")\n",
    "print(f\"{'Path parent:':<25}{Path('.').parent}\")\n",
    "print(f\"{'Absolute path parent:':<25}{Path('.').absolute().parent}\")\n",
    "print(f\"{'cwd:':<25}{Path.cwd()}\")\n",
    "print(f\"{'cwd parent:':<25}{Path.cwd().parents[0]}\")\n",
    "print(f\"{'cwd 2 parent:':<25}{Path.cwd().parent.parent}\")\n",
    "print(f\"{'cwd 3 parent:':<25}{Path.cwd().parents[2]}\")\n",
    "print(f\"{'cwd exists:':<25}{Path.cwd().exists()}\")\n",
    "print(f\"{'cwd is a directory:':<25}{Path.cwd().is_dir()}\")\n",
    "print(f\"{'cwd is a file:':<25}{Path.cwd().is_file()}\")\n",
    "print(f\"{'Notebook suffix:':<25}{(Path.cwd() / 'navigating.ipynb').suffix}\")\n",
    "print(f\"{'Notebook name:':<25}{(Path.cwd() / 'navigating.ipynb').name}\")"
   ]
  },
  {
   "cell_type": "code",
   "execution_count": 2,
   "metadata": {},
   "outputs": [
    {
     "name": "stdout",
     "output_type": "stream",
     "text": [
      "[PosixPath('/Users/serhatsoyer/Repos/py4Me/topics/navigating/.ipynb_checkpoints'), PosixPath('/Users/serhatsoyer/Repos/py4Me/topics/navigating/navigating.ipynb')]\n",
      "\n",
      " [PosixPath('/Users/serhatsoyer/Repos/py4Me/topics/navigating/.ipynb_checkpoints'), PosixPath('/Users/serhatsoyer/Repos/py4Me/topics/navigating/aFolder'), PosixPath('/Users/serhatsoyer/Repos/py4Me/topics/navigating/navigating.ipynb')]\n",
      "\n",
      " [PosixPath('/Users/serhatsoyer/Repos/py4Me/topics/navigating/.ipynb_checkpoints'), PosixPath('/Users/serhatsoyer/Repos/py4Me/topics/navigating/navigating.ipynb')]\n"
     ]
    }
   ],
   "source": [
    "path = Path.cwd().joinpath('aFolder') # Another way to navigate\n",
    "if path.is_dir(): path.rmdir() # Removing a folder\n",
    "print([item for item in Path.cwd().iterdir()]) # Way of tracing the folder items\n",
    "path.rmdir() if path.is_dir() else path.mkdir(parents=True, exist_ok=True) # Creating a folder\n",
    "print('\\n', [item for item in Path.cwd().iterdir()])\n",
    "path.rmdir() if path.is_dir() else path.mkdir(parents=True, exist_ok=True)\n",
    "print('\\n', [item for item in Path.cwd().iterdir()])"
   ]
  },
  {
   "cell_type": "code",
   "execution_count": 3,
   "metadata": {},
   "outputs": [
    {
     "name": "stdout",
     "output_type": "stream",
     "text": [
      "[PosixPath('/Users/serhatsoyer/Repos/py4Me/topics/navigating/navigating.ipynb')]\n",
      "\n",
      " [PosixPath('/Users/serhatsoyer/Repos/py4Me/topics/navigating/aFile.py'), PosixPath('/Users/serhatsoyer/Repos/py4Me/topics/navigating/navigating.ipynb')]\n",
      "\n",
      " [PosixPath('/Users/serhatsoyer/Repos/py4Me/topics/navigating/anotherName.py'), PosixPath('/Users/serhatsoyer/Repos/py4Me/topics/navigating/navigating.ipynb')]\n",
      "\n",
      " [PosixPath('/Users/serhatsoyer/Repos/py4Me/topics/navigating/navigating.ipynb')]\n"
     ]
    }
   ],
   "source": [
    "path = Path.cwd().parent / 'navigating' / 'aFile.py'\n",
    "print([item for item in Path.cwd().iterdir() if item.is_file()])\n",
    "file = open(path, 'x')\n",
    "print('\\n', [item for item in Path.cwd().iterdir() if item.is_file()])\n",
    "another_path = path.parent / 'anotherName.py'\n",
    "path.rename(another_path) # Can also be used to move files and folders inter directories\n",
    "print('\\n', [item for item in Path.cwd().iterdir() if item.is_file()])\n",
    "another_path.unlink()\n",
    "print('\\n', [item for item in Path.cwd().iterdir() if item.is_file()])"
   ]
  }
 ],
 "metadata": {
  "colab": {
   "authorship_tag": "ABX9TyO242NqZxlqC9snuiSoJsAX",
   "collapsed_sections": [],
   "provenance": []
  },
  "kernelspec": {
   "display_name": "Python 3.10.6 ('study')",
   "language": "python",
   "name": "python3"
  },
  "language_info": {
   "codemirror_mode": {
    "name": "ipython",
    "version": 3
   },
   "file_extension": ".py",
   "mimetype": "text/x-python",
   "name": "python",
   "nbconvert_exporter": "python",
   "pygments_lexer": "ipython3",
   "version": "3.10.8 (main, Nov 24 2022, 08:08:27) [Clang 14.0.6 ]"
  },
  "vscode": {
   "interpreter": {
    "hash": "29d06b973d1ddb34db3279b24f9b5152402e688db937648b736e855ec4de60c0"
   }
  }
 },
 "nbformat": 4,
 "nbformat_minor": 1
}
