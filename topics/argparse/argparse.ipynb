{
 "cells": [
  {
   "cell_type": "code",
   "execution_count": 1,
   "id": "e00a42d9",
   "metadata": {},
   "outputs": [
    {
     "name": "stdout",
     "output_type": "stream",
     "text": [
      "with:  15\n",
      "with:  {}\n",
      "with:       1\n",
      "with:       False\n",
      "with:   abc\n",
      "usage: with.py [-h] -r EXPRESSION [-w WIDTH] [-d | -t] explanation\n",
      "with.py: error: the following arguments are required: -r/--expression\n",
      "usage: with.py [-h] -r EXPRESSION [-w WIDTH] [-d | -t] explanation\n",
      "with.py: error: the following arguments are required: explanation\n"
     ]
    }
   ],
   "source": [
    "!python with.py with --expression {7 + 8} -w 7\n",
    "!python with.py with -r {} --width 7\n",
    "!python with.py with -r 1 -t\n",
    "!python with.py with -r False -w 7 -t\n",
    "!python with.py with -r abc -d\n",
    "!python with.py with\n",
    "!python with.py -r 0"
   ]
  },
  {
   "cell_type": "code",
   "execution_count": 2,
   "id": "0dc74843",
   "metadata": {},
   "outputs": [
    {
     "name": "stdout",
     "output_type": "stream",
     "text": [
      "without: 1\n",
      "usage: with.py [-h] -r EXPRESSION [-w WIDTH] [-d | -t] explanation\n",
      "\n",
      "Nice printer\n",
      "\n",
      "positional arguments:\n",
      "  explanation           Explanation\n",
      "\n",
      "options:\n",
      "  -h, --help            show this help message and exit\n",
      "  -r EXPRESSION, --expression EXPRESSION\n",
      "                        Expression to show\n",
      "  -w WIDTH, --width WIDTH\n",
      "                        Explanation width\n",
      "  -d, --double          Add empyt space\n",
      "  -t, --triple          Add more empty space\n"
     ]
    }
   ],
   "source": [
    "%%bash\n",
    "python without.py\n",
    "python with.py -h"
   ]
  }
 ],
 "metadata": {
  "kernelspec": {
   "display_name": "study",
   "language": "python",
   "name": "python3"
  },
  "language_info": {
   "codemirror_mode": {
    "name": "ipython",
    "version": 3
   },
   "file_extension": ".py",
   "mimetype": "text/x-python",
   "name": "python",
   "nbconvert_exporter": "python",
   "pygments_lexer": "ipython3",
   "version": "3.10.8"
  },
  "vscode": {
   "interpreter": {
    "hash": "29d06b973d1ddb34db3279b24f9b5152402e688db937648b736e855ec4de60c0"
   }
  }
 },
 "nbformat": 4,
 "nbformat_minor": 5
}
