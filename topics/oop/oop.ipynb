{
 "cells": [
  {
   "cell_type": "code",
   "execution_count": 1,
   "metadata": {
    "colab": {
     "base_uri": "https://localhost:8080/"
    },
    "executionInfo": {
     "elapsed": 347,
     "status": "ok",
     "timestamp": 1665155221604,
     "user": {
      "displayName": "M. Serhat Soyer",
      "userId": "05327580989176737130"
     },
     "user_tz": -60
    },
    "id": "Wx1Q_RUD87FQ",
    "outputId": "0cf57570-328a-407d-e1db-ab07dd76392f"
   },
   "outputs": [
    {
     "name": "stdout",
     "output_type": "stream",
     "text": [
      "<class 'function'>  -  <class 'str'>\n",
      "__init__\n",
      "a_method\n",
      "__init__\n",
      "<class 'type'>  -  <class '__main__.ExampleClass'>\n"
     ]
    }
   ],
   "source": [
    "def a_function(): pass # If you do not want to write anything\n",
    "print(type(a_function), ' - ', type('serhatsoyer')) # Everything is a member of a class\n",
    "\n",
    "class ExampleClass:\n",
    "    def __init__(self): print('__init__') # Reserved function\n",
    "    def a_method(self): print('a_method')\n",
    "\n",
    "an_example = ExampleClass() # An object created\n",
    "an_example.a_method() # A method called on the object\n",
    "another_example = ExampleClass() # Another object created\n",
    "print(type(ExampleClass), ' - ', type(an_example))"
   ]
  },
  {
   "cell_type": "code",
   "execution_count": 2,
   "metadata": {},
   "outputs": [
    {
     "name": "stdout",
     "output_type": "stream",
     "text": [
      "2  -  1  -  1\n",
      "3  -  2  -  0\n",
      "8  -  2  -  0\n",
      "4  -  2  -  0  -  3\n",
      "5  -  2  -  0\n",
      "3\n"
     ]
    }
   ],
   "source": [
    "class Parent:\n",
    "    def __init__(self, an_input):\n",
    "        self.an_attribute = an_input\n",
    "        self.another_attribute = 0\n",
    "    \n",
    "    def a_method(self, match):\n",
    "        print(f'{match}  -  {self.an_attribute}  -  {self.another_attribute}')\n",
    "    \n",
    "    def another_method(self):\n",
    "        self.another_attribute += 1\n",
    "\n",
    "class Child(Parent):\n",
    "    def __init__(self, an_input, another_input):\n",
    "        super().__init__(an_input)\n",
    "        self.child_only_attribute = another_input\n",
    "    \n",
    "    def another_method(self, match):\n",
    "        self.a_method(2 * match) # Parent's method called from overwritten method\n",
    "        print(f'{match}  -  {self.an_attribute}  -  {self.another_attribute}  -  {self.child_only_attribute}')\n",
    "\n",
    "a_parent = Parent(1)\n",
    "a_parent.another_method() # Parent's version does not expect any inputs\n",
    "a_parent.a_method(2)\n",
    "a_child = Child(2, 3)\n",
    "a_child.a_method(3)\n",
    "a_child.another_method(4) # Child's version expect an input\n",
    "a_child.a_method(5)\n",
    "print(a_child.child_only_attribute) # Attributes are reachable directly"
   ]
  },
  {
   "cell_type": "code",
   "execution_count": 3,
   "metadata": {},
   "outputs": [
    {
     "name": "stdout",
     "output_type": "stream",
     "text": [
      "a_static_method echo: serhatsoyer\n",
      "1  -  2  -  0\n",
      "1  -  2  -  1\n",
      "2  -  4  -  0\n",
      "2  -  2  -  2\n"
     ]
    }
   ],
   "source": [
    "class ExampleClass:\n",
    "    a_constant = 3.1 # Constants can be defined like this\n",
    "    attribute_0 = 0 # Class attribute\n",
    "\n",
    "    @staticmethod\n",
    "    def a_static_method(input): print(f'a_static_method echo: {input}')\n",
    "    \n",
    "    def __init__(self, input): # Initializer may have inputs\n",
    "        self.attribute_1 = 2 * input # Attributes might be functions of inputs\n",
    "        self.attribute_2 = 0 # An attribute not set by any inputs\n",
    "        ExampleClass.attribute_0 += 1\n",
    "\n",
    "    def set_attribute_2(self, input): self.attribute_2 = input\n",
    "    \n",
    "    def print_attributes(self): print(f'{self.attribute_0}  -  {self.attribute_1}  -  {self.attribute_2}')\n",
    "    \n",
    "    @classmethod\n",
    "    def get_attribute_0(cls): return cls.attribute_0\n",
    "\n",
    "ExampleClass.a_static_method('serhatsoyer') # Not necessary to create an object\n",
    "an_example = ExampleClass(1) # attribute_0 incremented\n",
    "an_example.print_attributes()\n",
    "an_example.set_attribute_2(1)\n",
    "an_example.print_attributes() # attribute_2 changed for this object\n",
    "another_example = ExampleClass(2) # attribute_0 incremented\n",
    "another_example.print_attributes() # attribute_2 is unchanged for other objects\n",
    "print(f'{an_example.get_attribute_0()}  -  {another_example.get_attribute_0()}  -  {ExampleClass.get_attribute_0()}')"
   ]
  }
 ],
 "metadata": {
  "colab": {
   "authorship_tag": "ABX9TyNHOowRVGeH2h5r1YMyEjIK",
   "collapsed_sections": [],
   "provenance": []
  },
  "kernelspec": {
   "display_name": "Python 3.10.6 ('study')",
   "language": "python",
   "name": "python3"
  },
  "language_info": {
   "codemirror_mode": {
    "name": "ipython",
    "version": 3
   },
   "file_extension": ".py",
   "mimetype": "text/x-python",
   "name": "python",
   "nbconvert_exporter": "python",
   "pygments_lexer": "ipython3",
   "version": "3.10.8"
  },
  "vscode": {
   "interpreter": {
    "hash": "29d06b973d1ddb34db3279b24f9b5152402e688db937648b736e855ec4de60c0"
   }
  }
 },
 "nbformat": 4,
 "nbformat_minor": 1
}
